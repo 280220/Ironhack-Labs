{
 "cells": [
  {
   "cell_type": "markdown",
   "metadata": {},
   "source": [
    "# Before your start:\n",
    "- Read the README.md file\n",
    "- Comment as much as you can and use the resources in the README.md file\n",
    "- Happy learning!"
   ]
  },
  {
   "cell_type": "code",
   "execution_count": 3,
   "metadata": {},
   "outputs": [],
   "source": [
    "import math"
   ]
  },
  {
   "cell_type": "markdown",
   "metadata": {},
   "source": [
    "# Challenge 1 - Handling Errors Using `try` and `except`\n",
    "\n",
    "The `try` and `except` clauses create a block for handling exceptions. When we wrap code in this block, we first attempt the code in the `try` and if an error is thrown, we can handle specific errors or all errors in the `except` portion.\n",
    "\n",
    "In the 4 cells below, modify the code to catch the error and print a meaningful message that will alert the user what went wrong. You may catch the error using a general `except` or a specific `except` for the error caused by the code."
   ]
  },
  {
   "cell_type": "code",
   "execution_count": 4,
   "metadata": {},
   "outputs": [
    {
     "name": "stdout",
     "output_type": "stream",
     "text": [
      "No has definido la variable 'some_string'\n"
     ]
    }
   ],
   "source": [
    "# Modify the code below:\n",
    "try:\n",
    "    print(some_string)\n",
    "except: \n",
    "    print(\"No has definido la variable 'some_string'\")"
   ]
  },
  {
   "cell_type": "code",
   "execution_count": 5,
   "metadata": {},
   "outputs": [
    {
     "name": "stdout",
     "output_type": "stream",
     "text": [
      "No has definido la variable 'some_string'\n"
     ]
    }
   ],
   "source": [
    "# Modify the code below:\n",
    "try:\n",
    "    print(some_string)\n",
    "except NameError: \n",
    "    print(\"No has definido la variable 'some_string'\")"
   ]
  },
  {
   "cell_type": "code",
   "execution_count": 6,
   "metadata": {},
   "outputs": [
    {
     "name": "stdout",
     "output_type": "stream",
     "text": [
      "El tipo de objeto en tu lista no es un número y no puede elevarse al cuadrado\n",
      "El tipo de objeto en tu lista no es un número y no puede elevarse al cuadrado\n"
     ]
    }
   ],
   "source": [
    "# Modify the code below:\n",
    "try:\n",
    "    for i in ['a','b','c']:\n",
    "        print (i**2)\n",
    "except :\n",
    "    print(\"El tipo de objeto en tu lista no es un número y no puede elevarse al cuadrado\")\n",
    "# Specific except\n",
    "try:\n",
    "    for i in ['a','b','c']:\n",
    "        print (i**2)\n",
    "except TypeError:\n",
    "    print(\"El tipo de objeto en tu lista no es un número y no puede elevarse al cuadrado\")\n"
   ]
  },
  {
   "cell_type": "code",
   "execution_count": 7,
   "metadata": {},
   "outputs": [
    {
     "name": "stdout",
     "output_type": "stream",
     "text": [
      "No se puede dividir un numero entre cero\n",
      "No se puede dividir un numero entre cero\n"
     ]
    }
   ],
   "source": [
    "# Modify the code below:\n",
    "\n",
    "x = 5\n",
    "y = 0\n",
    "#Geenral except\n",
    "try:\n",
    "    z = x/y\n",
    "except ZeroDivisionError:\n",
    "    print(\"No se puede dividir un numero entre cero\")\n",
    "#Specific except\n",
    "try:\n",
    "    z = x/y\n",
    "except ZeroDivisionError:\n",
    "    print(\"No se puede dividir un numero entre cero\")"
   ]
  },
  {
   "cell_type": "code",
   "execution_count": 8,
   "metadata": {},
   "outputs": [
    {
     "name": "stdout",
     "output_type": "stream",
     "text": [
      "Esta lista no tiene un indice 3\n",
      "Esta lista no tiene un indice 3\n"
     ]
    }
   ],
   "source": [
    "# Modify the code below:\n",
    "#General except\n",
    "try:\n",
    "    abc=[10,20,20]\n",
    "    print(abc[3])\n",
    "except :\n",
    "    print(\"Esta lista no tiene un indice 3\")\n",
    "#Specific except\n",
    "try:\n",
    "    abc=[10,20,20]\n",
    "    print(abc[3])\n",
    "except IndexError:\n",
    "    print(\"Esta lista no tiene un indice 3\")"
   ]
  },
  {
   "cell_type": "markdown",
   "metadata": {},
   "source": [
    "# Challenge 2 - Handling Errors Using `if` Statements\n",
    "\n",
    "In many cases, we are able to identify issues that may come up in our code and handle those handlful of issues with an `if` statment. Sometimes we would like to handle different types of inputs and are aware that later in the code, we will have to write two different branches of code for the two different cases we allowed in the beginning.\n",
    "\n",
    "In the 3 cells below, add an `if` statment that will handle both types of input allowed in the functions."
   ]
  },
  {
   "cell_type": "code",
   "execution_count": 10,
   "metadata": {},
   "outputs": [
    {
     "data": {
      "text/plain": [
       "1.0"
      ]
     },
     "execution_count": 10,
     "metadata": {},
     "output_type": "execute_result"
    }
   ],
   "source": [
    "# Modify the code below to handle positive and negative numbers by adding an if statement and performing a transformation:\n",
    "\n",
    "def sqrt_for_all(x):\n",
    "    # This function will take any real number and return the square root of its magnitude\n",
    "    # Input: real number\n",
    "    # Output: real number\n",
    "    \n",
    "    # Sample Input: -4\n",
    "    # Sample Output: 2.0\n",
    "    return math.sqrt(abs(x))\n",
    "\n",
    "sqrt_for_all(-1)"
   ]
  },
  {
   "cell_type": "code",
   "execution_count": 11,
   "metadata": {},
   "outputs": [
    {
     "data": {
      "text/plain": [
       "0"
      ]
     },
     "execution_count": 11,
     "metadata": {},
     "output_type": "execute_result"
    }
   ],
   "source": [
    "# Modify the code below to handle zero as well. In the case of zero, return zero\n",
    "\n",
    "def divide(x, y):\n",
    "    if y==0:\n",
    "        return 0\n",
    "    else:\n",
    "        z=(x/y)\n",
    "        return z\n",
    "\n",
    "    # This function will take any two real numbers and return their quotient. If the denominator is zero, we return zero\n",
    "    # Input: real number\n",
    "    # Output: real number\n",
    "    \n",
    "    # Sample Input: 5, 1\n",
    "    # Sample Output: 5.0\n",
    "\n",
    "divide(5, 0)"
   ]
  },
  {
   "cell_type": "code",
   "execution_count": 12,
   "metadata": {},
   "outputs": [
    {
     "data": {
      "text/plain": [
       "[11, 10]"
      ]
     },
     "execution_count": 12,
     "metadata": {},
     "output_type": "execute_result"
    }
   ],
   "source": [
    "# Modify the function below that it will take either an number and a list or two numbers. \n",
    "# If we take two numbers, add them together and return a list of length 1. \n",
    "# Otherwise, add the number to every element of the list and return the resulting list\n",
    "\n",
    "def add_elements(a, l):\n",
    "    # This function takes either two numbers or a list and a number and adds the number to all elements of the list\n",
    "    # If the function only takes two numbers, it returns a list of length one that is the sum of the numbers\n",
    "    \n",
    "    # Input: number and list or two numbers\n",
    "    # Output: list\n",
    "    \n",
    "    # Sample Input: 5, 6\n",
    "    # Sample Output: [11]\n",
    "    if type(l) == int:\n",
    "        l=[l]\n",
    "    return [a + element for element in l]\n",
    "        \n",
    "add_elements(5, [6,5])"
   ]
  },
  {
   "cell_type": "markdown",
   "metadata": {},
   "source": [
    "# Challenge 3 - Fixing Errors to Get Code to Run\n",
    "\n",
    "Sometimes the error is not caused by the input but by the code itself. In the 2 following cells below, examine the error and correct the code to avoid the error."
   ]
  },
  {
   "cell_type": "code",
   "execution_count": 13,
   "metadata": {
    "scrolled": true
   },
   "outputs": [
    {
     "data": {
      "text/plain": [
       "14"
      ]
     },
     "execution_count": 13,
     "metadata": {},
     "output_type": "execute_result"
    }
   ],
   "source": [
    "# Modify the code below:\n",
    "\n",
    "l = [1,2,3,4]\n",
    "#Faltaba un parentesis al final\n",
    "sum([element + 1 for element in l])"
   ]
  },
  {
   "cell_type": "code",
   "execution_count": 14,
   "metadata": {
    "scrolled": true
   },
   "outputs": [
    {
     "name": "stdout",
     "output_type": "stream",
     "text": [
      "The current element in the loop is 1\n",
      "The current element in the loop is 2\n",
      "The current element in the loop is 3\n",
      "The current element in the loop is 4\n"
     ]
    }
   ],
   "source": [
    "# Modify the code below:\n",
    "\n",
    "l = [1,2,3,4]\n",
    "#No se pueden concatenar objetos que no sean str a una str, en este caso era un int\n",
    "for element in l:\n",
    "    print(\"The current element in the loop is \" + str(element))"
   ]
  },
  {
   "cell_type": "markdown",
   "metadata": {},
   "source": [
    "# Challenge 4 - Raise Errors on Your Own\n",
    "\n",
    "There are cases where you need to alert your users of a problem even if the input will not immediately produce an error. In these cases you may want to throw an error yourself to bring attention to the problem. In the 2 cells below, write the functions as directed and add the appropriate errors using the `raise` clause. Make sure to add a meaningful error message."
   ]
  },
  {
   "cell_type": "code",
   "execution_count": 15,
   "metadata": {},
   "outputs": [
    {
     "ename": "ValueError",
     "evalue": "Esta funcion no puede recibir cero",
     "output_type": "error",
     "traceback": [
      "\u001b[1;31m---------------------------------------------------------------------------\u001b[0m",
      "\u001b[1;31mValueError\u001b[0m                                Traceback (most recent call last)",
      "\u001b[1;32m~\\AppData\\Local\\Temp/ipykernel_8892/263955700.py\u001b[0m in \u001b[0;36m<module>\u001b[1;34m\u001b[0m\n\u001b[0;32m     16\u001b[0m     \u001b[1;32melse\u001b[0m\u001b[1;33m:\u001b[0m\u001b[1;33m\u001b[0m\u001b[1;33m\u001b[0m\u001b[0m\n\u001b[0;32m     17\u001b[0m         \u001b[1;32mreturn\u001b[0m \u001b[0mmath\u001b[0m\u001b[1;33m.\u001b[0m\u001b[0mlog\u001b[0m\u001b[1;33m(\u001b[0m\u001b[0mx\u001b[0m\u001b[1;33m**\u001b[0m\u001b[1;36m2\u001b[0m\u001b[1;33m)\u001b[0m\u001b[1;33m\u001b[0m\u001b[1;33m\u001b[0m\u001b[0m\n\u001b[1;32m---> 18\u001b[1;33m \u001b[0mlog_square\u001b[0m\u001b[1;33m(\u001b[0m\u001b[1;36m0\u001b[0m\u001b[1;33m)\u001b[0m\u001b[1;33m\u001b[0m\u001b[1;33m\u001b[0m\u001b[0m\n\u001b[0m",
      "\u001b[1;32m~\\AppData\\Local\\Temp/ipykernel_8892/263955700.py\u001b[0m in \u001b[0;36mlog_square\u001b[1;34m(x)\u001b[0m\n\u001b[0;32m     13\u001b[0m     \u001b[1;31m# Your code here:\u001b[0m\u001b[1;33m\u001b[0m\u001b[1;33m\u001b[0m\u001b[1;33m\u001b[0m\u001b[0m\n\u001b[0;32m     14\u001b[0m     \u001b[1;32mif\u001b[0m \u001b[0mx\u001b[0m \u001b[1;33m==\u001b[0m \u001b[1;36m0\u001b[0m\u001b[1;33m:\u001b[0m\u001b[1;33m\u001b[0m\u001b[1;33m\u001b[0m\u001b[0m\n\u001b[1;32m---> 15\u001b[1;33m         \u001b[1;32mraise\u001b[0m \u001b[0mValueError\u001b[0m\u001b[1;33m(\u001b[0m\u001b[1;34m\"Esta funcion no puede recibir cero\"\u001b[0m\u001b[1;33m)\u001b[0m\u001b[1;33m\u001b[0m\u001b[1;33m\u001b[0m\u001b[0m\n\u001b[0m\u001b[0;32m     16\u001b[0m     \u001b[1;32melse\u001b[0m\u001b[1;33m:\u001b[0m\u001b[1;33m\u001b[0m\u001b[1;33m\u001b[0m\u001b[0m\n\u001b[0;32m     17\u001b[0m         \u001b[1;32mreturn\u001b[0m \u001b[0mmath\u001b[0m\u001b[1;33m.\u001b[0m\u001b[0mlog\u001b[0m\u001b[1;33m(\u001b[0m\u001b[0mx\u001b[0m\u001b[1;33m**\u001b[0m\u001b[1;36m2\u001b[0m\u001b[1;33m)\u001b[0m\u001b[1;33m\u001b[0m\u001b[1;33m\u001b[0m\u001b[0m\n",
      "\u001b[1;31mValueError\u001b[0m: Esta funcion no puede recibir cero"
     ]
    }
   ],
   "source": [
    "import numpy as np\n",
    "def log_square(x):\n",
    "    # This function takes a numeric value and returns the natural log of the square of the number \n",
    "    # The function raises an error if the number is equal to zero\n",
    "    # Use the math.log function in this funtion\n",
    "    \n",
    "    # Input: real number\n",
    "    # Output: real number or error\n",
    "    \n",
    "    # Sample Input: 5\n",
    "    # Sample Output: 3.21887\n",
    "    \n",
    "    # Your code here:\n",
    "    if x == 0:\n",
    "        raise ValueError(\"Esta funcion no puede recibir cero\")\n",
    "    else:\n",
    "        return math.log(x**2)\n",
    "log_square(0)"
   ]
  },
  {
   "cell_type": "code",
   "execution_count": 16,
   "metadata": {},
   "outputs": [
    {
     "data": {
      "text/plain": [
       "True"
      ]
     },
     "execution_count": 16,
     "metadata": {},
     "output_type": "execute_result"
    }
   ],
   "source": [
    "import re\n",
    "\n",
    "def check_capital(x):\n",
    "    # This function returns true if the string contains at least one capital letter and throws an error otherwise\n",
    "    # Input: string\n",
    "    # Output: bool or error message\n",
    "    \n",
    "    # Sample Input: 'John'\n",
    "    # Sample Output: True\n",
    "    \n",
    "    # Your code here:\n",
    "    if re.search(r'[A-Z]',x):\n",
    "        return True\n",
    "    else:\n",
    "        raise ValueError(\"Este string no tiene ninguna mayuscula\")\n",
    "check_capital('John')"
   ]
  },
  {
   "cell_type": "markdown",
   "metadata": {},
   "source": [
    "# Bonus Challenge - Optional Types\n",
    "\n",
    "The optional type is a data type that allows a variable to be either a defined type (like integer, string, etc.) or None. Optional types are defined in the `typing` library. They allow us to transition Python to a statically typed language (as far as our syntax goes). To read more about the `typing` library, click [here](https://docs.python.org/3/library/typing.html#typing.Optional). \n",
    "\n",
    "In the cell below, use the optional type to write a function that can handle both floats and `None` type. This function converts Celcius to Fahrenheit. If we pass `None` to the function, we should return `None`, otherwise, we will compute the converted temperature"
   ]
  },
  {
   "cell_type": "code",
   "execution_count": 17,
   "metadata": {},
   "outputs": [
    {
     "name": "stdout",
     "output_type": "stream",
     "text": [
      "None\n"
     ]
    },
    {
     "data": {
      "text/plain": [
       "41.0"
      ]
     },
     "execution_count": 17,
     "metadata": {},
     "output_type": "execute_result"
    }
   ],
   "source": [
    "from typing import Optional\n",
    "\n",
    "def temp_convert(arg: Optional[float]=None):\n",
    "    # This function takes either float or None and returns either None or a converted temperature\n",
    "    # Input: Optional[float]\n",
    "    # Output: Optional[float]\n",
    "    \n",
    "    # Sample Input: 5\n",
    "    # Sample Output: 41.0\n",
    "    \n",
    "    #Your Code here\n",
    "        if arg == None:\n",
    "            return None\n",
    "        else:\n",
    "            return arg*9/5+32\n",
    "print(temp_convert())\n",
    "temp_convert(5)\n",
    "        "
   ]
  },
  {
   "cell_type": "code",
   "execution_count": null,
   "metadata": {},
   "outputs": [],
   "source": []
  }
 ],
 "metadata": {
  "kernelspec": {
   "display_name": "Python 3 (ipykernel)",
   "language": "python",
   "name": "python3"
  },
  "language_info": {
   "codemirror_mode": {
    "name": "ipython",
    "version": 3
   },
   "file_extension": ".py",
   "mimetype": "text/x-python",
   "name": "python",
   "nbconvert_exporter": "python",
   "pygments_lexer": "ipython3",
   "version": "3.7.11"
  }
 },
 "nbformat": 4,
 "nbformat_minor": 2
}
